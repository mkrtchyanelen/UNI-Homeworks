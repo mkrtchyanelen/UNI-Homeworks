{
 "cells": [
  {
   "cell_type": "code",
   "execution_count": 1,
   "id": "23202f16",
   "metadata": {},
   "outputs": [
    {
     "name": "stdout",
     "output_type": "stream",
     "text": [
      "Hello world!\n"
     ]
    }
   ],
   "source": []
  },
  {
   "cell_type": "code",
   "execution_count": null,
   "id": "9c03e2a6",
   "metadata": {},
   "outputs": [],
   "source": []
  },
  {
   "cell_type": "code",
   "execution_count": 1,
   "id": "1855a9a2",
   "metadata": {},
   "outputs": [
    {
     "name": "stdout",
     "output_type": "stream",
     "text": [
      "pygame 2.4.0 (SDL 2.26.4, Python 3.10.11)\n",
      "Hello from the pygame community. https://www.pygame.org/contribute.html\n"
     ]
    }
   ],
   "source": [
    "import time\n",
    "import pygame \n",
    "import numpy as np\n",
    "\n",
    "COLOR_BG = (10, 10, 10)\n",
    "COLOR_GRID = (40, 40, 40)\n",
    "COLOR_DIE_NEXT = (170, 170, 170)\n",
    "COLOR_ALIVE_NEXT = (255, 255, 255)\n",
    "\n",
    "\n",
    "def update(screen, cells, size, with_progress = False):\n",
    "    updated_cells = np.zeros((cells.shape[0], cells.shape[1]))\n",
    "#     np.zeros\n",
    "    \n",
    "    for row, col in np.ndindex(cells.shape):\n",
    "        alive = np.sum(cells[row - 1:row + 2, col - 1:col + 2]) - cells[row, col]\n",
    "        color = COLOR_BG if cells[row, col] == 0 else COLOR_ALIVE_NEXT\n",
    "        \n",
    "        if cells[row, col] == 1:\n",
    "            if alive < 2 or alive > 3:\n",
    "                if with_progress:\n",
    "                    color = COLOR_DIE_NEXT\n",
    "                    \n",
    "            elif 2 <= alive <= 3:\n",
    "                updated_cells[row, col] = 1\n",
    "                if with_progress:\n",
    "                    color = COLOR_ALIVE_NEXT\n",
    "        else:\n",
    "            if alive == 3:\n",
    "                updated_cells[row, col] = 1\n",
    "                if with_progress:\n",
    "                    color = COLOR_ALIVE_NEXT\n",
    "                    \n",
    "        pygame.draw.rect(screen, color, (col * size, row * size, size - 1, size - 1))\n",
    "        \n",
    "    return updated_cells\n",
    "\n",
    "def main():\n",
    "    pygame.init()\n",
    "    screen = pygame.display.set_mode((800, 600))\n",
    "    \n",
    "    cells = np.zeros((60, 80))\n",
    "    screen.fill(COLOR_GRID)\n",
    "    update(screen, cells, 10)\n",
    "    \n",
    "    pygame.display.flip()\n",
    "    pygame.display.update()\n",
    "    \n",
    "    running = False\n",
    "    \n",
    "    while True:\n",
    "        for event in pygame.event.get():\n",
    "            if event.type == pygame.QUIT:\n",
    "                pygame.quit()\n",
    "                return\n",
    "            elif event.type == pygame.KEYDOWN:\n",
    "                if event.key == pygame.K_SPACE:\n",
    "                    running = not running\n",
    "                    update(screen, cells, 10)\n",
    "                    pygame.display.update()\n",
    "            if pygame.mouse.get_pressed()[0]:\n",
    "                pos = pygame.mouse.get_pos()\n",
    "                cells[pos[1] // 10, pos[0] // 10] = 1\n",
    "                update(screen, cells, 10)\n",
    "                pygame.display.update()\n",
    "                \n",
    "        screen.fill(COLOR_GRID)\n",
    "    \n",
    "        if running:\n",
    "            cells = update(screen, cells, 10, with_progress = True)\n",
    "            pygame.display.update()\n",
    "        \n",
    "        time.sleep(0.001)\n",
    "        \n",
    "#pygame.quit()\n",
    "    \n",
    "if __name__ == '__main__':\n",
    "    main()\n",
    "    "
   ]
  },
  {
   "cell_type": "code",
   "execution_count": null,
   "id": "dfac0bd4",
   "metadata": {},
   "outputs": [],
   "source": []
  },
  {
   "cell_type": "code",
   "execution_count": null,
   "id": "a57a0d49",
   "metadata": {},
   "outputs": [],
   "source": []
  }
 ],
 "metadata": {
  "kernelspec": {
   "display_name": "Python 3 (ipykernel)",
   "language": "python",
   "name": "python3"
  },
  "language_info": {
   "codemirror_mode": {
    "name": "ipython",
    "version": 3
   },
   "file_extension": ".py",
   "mimetype": "text/x-python",
   "name": "python",
   "nbconvert_exporter": "python",
   "pygments_lexer": "ipython3",
   "version": "3.10.11"
  }
 },
 "nbformat": 4,
 "nbformat_minor": 5
}
