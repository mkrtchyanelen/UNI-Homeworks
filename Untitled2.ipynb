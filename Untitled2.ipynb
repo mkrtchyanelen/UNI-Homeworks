{
  "nbformat": 4,
  "nbformat_minor": 0,
  "metadata": {
    "colab": {
      "provenance": []
    },
    "kernelspec": {
      "name": "python3",
      "display_name": "Python 3"
    },
    "language_info": {
      "name": "python"
    }
  },
  "cells": [
    {
      "cell_type": "markdown",
      "source": [],
      "metadata": {
        "id": "ARka-sw3P8HT"
      }
    },
    {
      "cell_type": "markdown",
      "source": [
        "#1"
      ],
      "metadata": {
        "id": "F1bOnwZIP-GB"
      }
    },
    {
      "cell_type": "code",
      "execution_count": 42,
      "metadata": {
        "colab": {
          "base_uri": "https://localhost:8080/"
        },
        "id": "Whd-BpBXP3vO",
        "outputId": "d7e69c3a-92b0-4f62-e3f0-3545e9383d7d"
      },
      "outputs": [
        {
          "output_type": "execute_result",
          "data": {
            "text/plain": [
              "[['#'], ['#', '#'], ['#', '#', '#']]"
            ]
          },
          "metadata": {},
          "execution_count": 42
        }
      ],
      "source": [
        "def triangle(n, symbol = '#'):\n",
        "  ls = []\n",
        "  if n <= 1:\n",
        "    return None\n",
        "  \n",
        "  for i in range(n):\n",
        "    ls.append([symbol] * (i + 1))\n",
        "  return ls\n",
        "\n",
        "triangle(3)"
      ]
    },
    {
      "cell_type": "markdown",
      "source": [
        "#2"
      ],
      "metadata": {
        "id": "vOx4b9s4QJ4D"
      }
    },
    {
      "cell_type": "code",
      "source": [
        "def gcd(*numbers):\n",
        "    if len(numbers) == 0:\n",
        "        return None\n",
        "    elif len(numbers) == 1:\n",
        "        return numbers[0]\n",
        "    else:\n",
        "        a = numbers[0]\n",
        "        b = gcd(*numbers[1:])\n",
        "        return gcd_two_numbers(a, b)\n",
        "\n",
        "def gcd_two_numbers(a, b):\n",
        "    if b == 0:\n",
        "        return a\n",
        "    else:\n",
        "        return gcd_two_numbers(b, a % b)\n",
        "        \n",
        "print(gcd(12, 18, 24))"
      ],
      "metadata": {
        "colab": {
          "base_uri": "https://localhost:8080/"
        },
        "id": "t61imPQ_QHyW",
        "outputId": "5884bd1d-d183-4f6a-e809-8c71786136e6"
      },
      "execution_count": 24,
      "outputs": [
        {
          "output_type": "stream",
          "name": "stdout",
          "text": [
            "6\n"
          ]
        }
      ]
    },
    {
      "cell_type": "markdown",
      "source": [
        "#3"
      ],
      "metadata": {
        "id": "HqLm93JPQQXJ"
      }
    },
    {
      "cell_type": "code",
      "source": [
        "count = 0\n",
        "\n",
        "def fibonacci(n):\n",
        "    global count\n",
        "    count += 1\n",
        "    if n <= 1:\n",
        "        return (n, 0)\n",
        "    return (fibonacci(n-1) + fibonacci(n-2), count)\n",
        "\n",
        "(n, count) = fibonacci(10)\n",
        "print(count)"
      ],
      "metadata": {
        "colab": {
          "base_uri": "https://localhost:8080/"
        },
        "id": "LXHX4vD_QNGP",
        "outputId": "90d5cf39-5e86-4468-aa67-d9351092d301"
      },
      "execution_count": 87,
      "outputs": [
        {
          "output_type": "stream",
          "name": "stdout",
          "text": [
            "177\n"
          ]
        }
      ]
    },
    {
      "cell_type": "markdown",
      "source": [
        "#4"
      ],
      "metadata": {
        "id": "2Ukc130uc1kL"
      }
    },
    {
      "cell_type": "markdown",
      "source": [],
      "metadata": {
        "id": "cNq0fZdUc0-c"
      }
    },
    {
      "cell_type": "code",
      "source": [
        "def prime_factors(n):\n",
        "    if n < 1:\n",
        "        return []\n",
        "\n",
        "    factors = []\n",
        "    i = 2\n",
        "    while i * i <= n:\n",
        "        if n % i:\n",
        "            i += 1\n",
        "        else:\n",
        "            n //= i\n",
        "            if i not in factors:\n",
        "                factors.append(i)\n",
        "    if n > 1 and n not in factors:\n",
        "        factors.append(n)\n",
        "    return factors\n",
        "\n",
        "print(prime_factors(18))"
      ],
      "metadata": {
        "colab": {
          "base_uri": "https://localhost:8080/"
        },
        "id": "x7cuAPf1QX_I",
        "outputId": "def3eea7-9124-4b3d-e2a9-82132f3d442f"
      },
      "execution_count": 48,
      "outputs": [
        {
          "output_type": "stream",
          "name": "stdout",
          "text": [
            "[2, 3]\n"
          ]
        }
      ]
    },
    {
      "cell_type": "markdown",
      "source": [
        "#5"
      ],
      "metadata": {
        "id": "JAYaNPrJiTg8"
      }
    },
    {
      "cell_type": "code",
      "source": [
        "def jumping_frog(P, h):\n",
        "  for i in range(len(P)):\n",
        "    if P[i] - P[i-1] <= h or P[i] - P[i-1] > -h:\n",
        "      return 'Frog wins'\n",
        "  else:\n",
        "      return 'Game over'      \n",
        "\n",
        "\n",
        "jumping_frog([1, 3], 2)\n"
      ],
      "metadata": {
        "colab": {
          "base_uri": "https://localhost:8080/",
          "height": 35
        },
        "id": "fKzPRMFqSWUD",
        "outputId": "fe5406a8-9ff3-44a7-8d29-45540c4a7dfc"
      },
      "execution_count": 72,
      "outputs": [
        {
          "output_type": "execute_result",
          "data": {
            "text/plain": [
              "'Frog wins'"
            ],
            "application/vnd.google.colaboratory.intrinsic+json": {
              "type": "string"
            }
          },
          "metadata": {},
          "execution_count": 72
        }
      ]
    },
    {
      "cell_type": "code",
      "source": [],
      "metadata": {
        "id": "7mUGXV9-gxVf"
      },
      "execution_count": null,
      "outputs": []
    }
  ]
}